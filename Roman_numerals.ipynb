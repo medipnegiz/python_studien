{
 "cells": [
  {
   "cell_type": "code",
   "execution_count": null,
   "metadata": {},
   "outputs": [],
   "source": [
    "import time\n",
    "numara = [1, 4, 5, 9, 10, 40, 50, 90, 100, 400, 500, 900, 1000]\n",
    "sembol = [\"I\", \"IV\", \"V\", \"IX\", \"X\", \"XL\", \"L\", \"XC\", \"C\", \"CD\", \"D\", \"CM\", \"M\"]\n",
    "i = 12\n",
    "def git(yol):\n",
    "    global line \n",
    "    line = yol\n",
    "line = 10\n",
    "print('### Bu program girilen tam sayilari roma rakamina cevirir ###\\n(Cikis icin \"exit\" yazin!)')\n",
    "while True:\n",
    "    if line == 10:\n",
    "        gir = input('Lütfen bir sayi girin...').lower()\n",
    "        ilkgir = gir\n",
    "        if gir.isalpha():\n",
    "            if gir == 'exit':\n",
    "                print('Programdan cikiliyor... Good Bye')\n",
    "                time.sleep(1)\n",
    "                break\n",
    "            else:\n",
    "                print('Girilen sayi rakam olmalidir !!!')\n",
    "                git(10)\n",
    "        elif gir.isdigit():\n",
    "            git(20)\n",
    "    elif line == 20:\n",
    "        gir = int(gir)\n",
    "        if gir < 1 or gir > 3999:\n",
    "            print('Girilen sayi 1 - 3999 arasinda olmalidir !!!')\n",
    "            git(10)\n",
    "        else:\n",
    "            liste = ''\n",
    "            while gir:\n",
    "                bol = gir // numara[i]\n",
    "                gir %= numara[i]\n",
    "                while bol:\n",
    "                    liste = liste + sembol[i]\n",
    "                    bol -= 1\n",
    "                i -= 1\n",
    "                if gir == 0:\n",
    "                    git(30)\n",
    "                    break\n",
    "    elif line == 30:\n",
    "        print(f'{ilkgir} : {liste} ')\n",
    "        break"
   ]
  }
 ],
 "metadata": {
  "interpreter": {
   "hash": "6ad26241c07724e01d8aa624dc326d96ae3270d6a8cf03e5e30ca50032991d9f"
  },
  "kernelspec": {
   "display_name": "Python 3.10.4 64-bit",
   "language": "python",
   "name": "python3"
  },
  "language_info": {
   "codemirror_mode": {
    "name": "ipython",
    "version": 3
   },
   "file_extension": ".py",
   "mimetype": "text/x-python",
   "name": "python",
   "nbconvert_exporter": "python",
   "pygments_lexer": "ipython3",
   "version": "3.10.4"
  },
  "orig_nbformat": 4
 },
 "nbformat": 4,
 "nbformat_minor": 2
}
